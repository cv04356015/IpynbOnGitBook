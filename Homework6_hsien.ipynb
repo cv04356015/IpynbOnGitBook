{
 "cells": [
  {
   "cell_type": "raw",
   "metadata": {},
   "source": [
    "使用Python 讀取該新聞，並將新聞放置一名為disease_news 的物件中"
   ]
  },
  {
   "cell_type": "code",
   "execution_count": 1,
   "metadata": {},
   "outputs": [],
   "source": [
    "import requests\n",
    "disease_news = requests.get('https://raw.githubusercontent.com/ywchiu/cdc_course/master/data/news.txt')\n",
    "disease_news.encoding = \"big5\"\n",
    "disease_news = disease_news.text"
   ]
  },
  {
   "cell_type": "raw",
   "metadata": {},
   "source": [
    "# 切開句子"
   ]
  },
  {
   "cell_type": "code",
   "execution_count": 2,
   "metadata": {
    "scrolled": true
   },
   "outputs": [
    {
     "data": {
      "text/plain": [
       "['新北市出現當地今年首起登革熱群聚\\u3000憂疫情擴大\\n\\n疾管署提醒',\n",
       " '赴東南亞要注意防蚊\\n    \\n新北市出現當地今年首例登革熱群聚事件',\n",
       " '衛福部疾管署表示',\n",
       " '患者為家住鶯歌區的一對夫妻',\n",
       " '近期沒有出國',\n",
       " '但卻先後感染登革熱發病',\n",
       " '疾管署表示',\n",
       " '檢驗夫妻感染的登革熱病毒株為接近越南登革熱流行型別',\n",
       " '其居住社區可能潛藏境外移入病例',\n",
       " '但兩人就醫2至4次才被確診',\n",
       " '恐導致社區潛在個案無法快速被掌握及通報',\n",
       " '疫情可能擴大',\n",
       " '\\n疾管署副署長羅一鈞表示',\n",
       " '這對夫妻約50多歲',\n",
       " '太太先於9月20日發病',\n",
       " '出現發燒',\n",
       " '肌肉痛',\n",
       " '關節痛',\n",
       " '倦怠等症狀',\n",
       " '之後後丈夫也發病',\n",
       " '但直到昨日才確診為第一型登革熱',\n",
       " '而妻子自昨日確診時已是第4次就醫',\n",
       " '從發病到被通報疑似為登革熱',\n",
       " '病例隱藏期已歷經7天',\n",
       " '\\n羅一鈞表示',\n",
       " '登革熱埃及斑蚊較常在南部的高雄',\n",
       " '屏東及台南出現大流行',\n",
       " '北部',\n",
       " '中部的病媒蚊則以白線斑蚊為主',\n",
       " '未曾有過登革熱大流行',\n",
       " '因此相較使北部醫療院所較少有診治登革熱經驗',\n",
       " '病例隱藏期延長',\n",
       " '恐導致社區潛在個案未能快速被掌握及通報',\n",
       " '提升疫情傳播風險',\n",
       " '\\n羅一鈞表示',\n",
       " '目前已針對患者居家',\n",
       " '活動地周邊進行病媒蚊及孳生源清除',\n",
       " '2名患者目前正住院治療中',\n",
       " '同住家人暫無疑似症狀',\n",
       " '\\n羅一鈞說',\n",
       " '由於南部較常出現登革熱流行疫情',\n",
       " '掌握感染從者從發病到被通報',\n",
       " '病例隱藏期可掌握在1.5天',\n",
       " '為做好疫情控制',\n",
       " '至少應在3天內通報',\n",
       " '\\n根據疾管署統計',\n",
       " '今年初截至昨日為止',\n",
       " '國內已有5例登革熱本土病例',\n",
       " '234例境外移入病例',\n",
       " '含2例死亡',\n",
       " '',\n",
       " '最近東南亞寮國',\n",
       " '越南及泰國',\n",
       " '登革熱疫情呈上升或處於高水平',\n",
       " '越南已累積了12萬5千例患者',\n",
       " '比去年同期增加逾40%',\n",
       " '寮國逾7700例',\n",
       " '提醒民眾到東南亞旅行應做好防蚊措施',\n",
       " '(黃仲丘／台北報導)']"
      ]
     },
     "execution_count": 2,
     "metadata": {},
     "output_type": "execute_result"
    }
   ],
   "source": [
    "import re\n",
    "re.split('、|；|，|）|（|。', disease_news)"
   ]
  },
  {
   "cell_type": "raw",
   "metadata": {},
   "source": [
    "# 引用長詞優先法"
   ]
  },
  {
   "cell_type": "code",
   "execution_count": 3,
   "metadata": {
    "collapsed": true
   },
   "outputs": [],
   "source": [
    "import re\n",
    "from collections import Counter\n",
    "\n",
    "def ngram(sentence, n = 2):\n",
    "    words = []\n",
    "    for i in range(0, len(sentence) - n + 1):\n",
    "        words.append(sentence[i:i+n])\n",
    "    return words\n",
    "\n",
    "def removeKey(text, keyword):\n",
    "    for key in keyword:\n",
    "        text = text.replace(key,'')\n",
    "    return text\n",
    "\n",
    "def longTermFirst(article, keywords, threshold):\n",
    "    delimiter = '，|、|「|」|。|\\n'\n",
    "    sentence_ary = re.split(delimiter, article)\n",
    "\n",
    "    for k in range(4,1,-1):\n",
    "        # 產生n-gram 詞\n",
    "        terms    = []\n",
    "        for sentence in sentence_ary:\n",
    "            sentence = removeKey(sentence, keywords)\n",
    "            terms.extend(ngram(sentence, k))\n",
    "\n",
    "        # 統計n-gram, 將超過一定次數(閥值)的資料取出\n",
    "        c = Counter(terms)\n",
    "        for word, cnt in c.items():\n",
    "            if cnt >= threshold:\n",
    "                keywords.append(word)\n",
    "                \n",
    "    # 回傳關鍵字詞\n",
    "    return keywords"
   ]
  },
  {
   "cell_type": "code",
   "execution_count": 4,
   "metadata": {
    "collapsed": true
   },
   "outputs": [],
   "source": [
    "article = disease_news\n",
    "keywords = []\n",
    "threshold = 4"
   ]
  },
  {
   "cell_type": "code",
   "execution_count": 5,
   "metadata": {},
   "outputs": [
    {
     "data": {
      "text/plain": [
       "['登革熱', '疾管署', '羅一鈞', '出現', '疫情', '表示', '患者', '發病', '流行', '病例', '掌握', '通報']"
      ]
     },
     "execution_count": 5,
     "metadata": {},
     "output_type": "execute_result"
    }
   ],
   "source": [
    "important_words = longTermFirst(article, keywords, threshold)\n",
    "important_words"
   ]
  },
  {
   "cell_type": "raw",
   "metadata": {},
   "source": [
    "# 新增上述字典"
   ]
  },
  {
   "cell_type": "code",
   "execution_count": 6,
   "metadata": {
    "collapsed": true
   },
   "outputs": [],
   "source": [
    "with open('localdict.txt', 'a', encoding = 'UTF-8') as f:\n",
    "    for word in important_words:\n",
    "        f.write('{} {} {}\\n'.format(word, 100, 'n'))"
   ]
  },
  {
   "cell_type": "raw",
   "metadata": {},
   "source": [
    "使用Jibea 切出中文詞(您必須適當的加一些字詞到字典中，以提高斷詞精準度)，並統計每個字詞出現次數"
   ]
  },
  {
   "cell_type": "code",
   "execution_count": 7,
   "metadata": {},
   "outputs": [
    {
     "name": "stderr",
     "output_type": "stream",
     "text": [
      "Building prefix dict from the default dictionary ...\n",
      "Loading model from cache C:\\Users\\User\\AppData\\Local\\Temp\\jieba.cache\n",
      "Loading model cost 1.143 seconds.\n",
      "Prefix dict has been built succesfully.\n"
     ]
    },
    {
     "data": {
      "text/plain": [
       "[('，', 40),\n",
       " ('登革熱', 13),\n",
       " ('\\n', 9),\n",
       " ('、', 9),\n",
       " ('疫情', 6),\n",
       " ('為', 6),\n",
       " ('病例', 6),\n",
       " ('。', 6),\n",
       " ('出現', 5),\n",
       " ('疾管署', 5)]"
      ]
     },
     "execution_count": 7,
     "metadata": {},
     "output_type": "execute_result"
    }
   ],
   "source": [
    "import jieba\n",
    "jieba.load_userdict('localdict.txt')\n",
    "words = [w for w in jieba.cut(article)]\n",
    "from collections import Counter\n",
    "words = [w for w in jieba.cut(article)]\n",
    "c = Counter(words)\n",
    "c.most_common(10)"
   ]
  },
  {
   "cell_type": "raw",
   "metadata": {},
   "source": [
    "請印出該新聞出現頻率最高三個字詞"
   ]
  },
  {
   "cell_type": "code",
   "execution_count": 8,
   "metadata": {},
   "outputs": [],
   "source": [
    "import re\n",
    "import pandas\n",
    "common_terms = []\n",
    "for k, v in c.most_common(100):\n",
    "    if len(k) >= 2 and re.match('[\\u4E00-\\u9FA5]+', k):\n",
    "        common_terms.append({'keyword': k, 'count': v})"
   ]
  },
  {
   "cell_type": "code",
   "execution_count": 9,
   "metadata": {},
   "outputs": [
    {
     "data": {
      "text/html": [
       "<div>\n",
       "<style>\n",
       "    .dataframe thead tr:only-child th {\n",
       "        text-align: right;\n",
       "    }\n",
       "\n",
       "    .dataframe thead th {\n",
       "        text-align: left;\n",
       "    }\n",
       "\n",
       "    .dataframe tbody tr th {\n",
       "        vertical-align: top;\n",
       "    }\n",
       "</style>\n",
       "<table border=\"1\" class=\"dataframe\">\n",
       "  <thead>\n",
       "    <tr style=\"text-align: right;\">\n",
       "      <th></th>\n",
       "      <th>count</th>\n",
       "      <th>keyword</th>\n",
       "    </tr>\n",
       "  </thead>\n",
       "  <tbody>\n",
       "    <tr>\n",
       "      <th>0</th>\n",
       "      <td>13</td>\n",
       "      <td>登革熱</td>\n",
       "    </tr>\n",
       "    <tr>\n",
       "      <th>1</th>\n",
       "      <td>6</td>\n",
       "      <td>疫情</td>\n",
       "    </tr>\n",
       "    <tr>\n",
       "      <th>2</th>\n",
       "      <td>6</td>\n",
       "      <td>病例</td>\n",
       "    </tr>\n",
       "  </tbody>\n",
       "</table>\n",
       "</div>"
      ],
      "text/plain": [
       "   count keyword\n",
       "0     13     登革熱\n",
       "1      6      疫情\n",
       "2      6      病例"
      ]
     },
     "execution_count": 9,
     "metadata": {},
     "output_type": "execute_result"
    }
   ],
   "source": [
    "df = pandas.DataFrame(common_terms).head(3)\n",
    "df"
   ]
  }
 ],
 "metadata": {
  "kernelspec": {
   "display_name": "Python 3",
   "language": "python",
   "name": "python3"
  },
  "language_info": {
   "codemirror_mode": {
    "name": "ipython",
    "version": 3
   },
   "file_extension": ".py",
   "mimetype": "text/x-python",
   "name": "python",
   "nbconvert_exporter": "python",
   "pygments_lexer": "ipython3",
   "version": "3.6.1"
  }
 },
 "nbformat": 4,
 "nbformat_minor": 2
}
